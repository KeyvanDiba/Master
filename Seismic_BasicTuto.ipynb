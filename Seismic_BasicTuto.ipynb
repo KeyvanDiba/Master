{
  "nbformat": 4,
  "nbformat_minor": 0,
  "metadata": {
    "colab": {
      "provenance": [],
      "authorship_tag": "ABX9TyNheD86MTD9mqXremjv8udb",
      "include_colab_link": true
    },
    "kernelspec": {
      "name": "python3",
      "display_name": "Python 3"
    },
    "language_info": {
      "name": "python"
    }
  },
  "cells": [
    {
      "cell_type": "markdown",
      "metadata": {
        "id": "view-in-github",
        "colab_type": "text"
      },
      "source": [
        "<a href=\"https://colab.research.google.com/github/KeyvanDiba/Master/blob/main/Seismic_BasicTuto.ipynb\" target=\"_parent\"><img src=\"https://colab.research.google.com/assets/colab-badge.svg\" alt=\"Open In Colab\"/></a>"
      ]
    },
    {
      "cell_type": "markdown",
      "source": [
        "Tuto Obspy"
      ],
      "metadata": {
        "id": "aZ2YIMONPYFO"
      }
    },
    {
      "cell_type": "code",
      "execution_count": 1,
      "metadata": {
        "id": "T1La8n17NoKG",
        "outputId": "e12b01a1-23c9-46d8-cee9-b71ac1ea3bb7",
        "colab": {
          "base_uri": "https://localhost:8080/"
        }
      },
      "outputs": [
        {
          "output_type": "stream",
          "name": "stdout",
          "text": [
            "Looking in indexes: https://pypi.org/simple, https://us-python.pkg.dev/colab-wheels/public/simple/\n",
            "Requirement already satisfied: obspy in /usr/local/lib/python3.7/dist-packages (1.3.1)\n",
            "Requirement already satisfied: numpy>=1.15.0 in /usr/local/lib/python3.7/dist-packages (from obspy) (1.21.6)\n",
            "Requirement already satisfied: scipy>=1.0.0 in /usr/local/lib/python3.7/dist-packages (from obspy) (1.7.3)\n",
            "Requirement already satisfied: sqlalchemy in /usr/local/lib/python3.7/dist-packages (from obspy) (1.4.42)\n",
            "Requirement already satisfied: lxml in /usr/local/lib/python3.7/dist-packages (from obspy) (4.9.1)\n",
            "Requirement already satisfied: decorator in /usr/local/lib/python3.7/dist-packages (from obspy) (4.4.2)\n",
            "Requirement already satisfied: matplotlib>=3.2.0 in /usr/local/lib/python3.7/dist-packages (from obspy) (3.2.2)\n",
            "Requirement already satisfied: setuptools in /usr/local/lib/python3.7/dist-packages (from obspy) (57.4.0)\n",
            "Requirement already satisfied: requests in /usr/local/lib/python3.7/dist-packages (from obspy) (2.23.0)\n",
            "Requirement already satisfied: pyparsing!=2.0.4,!=2.1.2,!=2.1.6,>=2.0.1 in /usr/local/lib/python3.7/dist-packages (from matplotlib>=3.2.0->obspy) (3.0.9)\n",
            "Requirement already satisfied: kiwisolver>=1.0.1 in /usr/local/lib/python3.7/dist-packages (from matplotlib>=3.2.0->obspy) (1.4.4)\n",
            "Requirement already satisfied: cycler>=0.10 in /usr/local/lib/python3.7/dist-packages (from matplotlib>=3.2.0->obspy) (0.11.0)\n",
            "Requirement already satisfied: python-dateutil>=2.1 in /usr/local/lib/python3.7/dist-packages (from matplotlib>=3.2.0->obspy) (2.8.2)\n",
            "Requirement already satisfied: typing-extensions in /usr/local/lib/python3.7/dist-packages (from kiwisolver>=1.0.1->matplotlib>=3.2.0->obspy) (4.1.1)\n",
            "Requirement already satisfied: six>=1.5 in /usr/local/lib/python3.7/dist-packages (from python-dateutil>=2.1->matplotlib>=3.2.0->obspy) (1.15.0)\n",
            "Requirement already satisfied: idna<3,>=2.5 in /usr/local/lib/python3.7/dist-packages (from requests->obspy) (2.10)\n",
            "Requirement already satisfied: chardet<4,>=3.0.2 in /usr/local/lib/python3.7/dist-packages (from requests->obspy) (3.0.4)\n",
            "Requirement already satisfied: urllib3!=1.25.0,!=1.25.1,<1.26,>=1.21.1 in /usr/local/lib/python3.7/dist-packages (from requests->obspy) (1.24.3)\n",
            "Requirement already satisfied: certifi>=2017.4.17 in /usr/local/lib/python3.7/dist-packages (from requests->obspy) (2022.9.24)\n",
            "Requirement already satisfied: greenlet!=0.4.17 in /usr/local/lib/python3.7/dist-packages (from sqlalchemy->obspy) (1.1.3.post0)\n",
            "Requirement already satisfied: importlib-metadata in /usr/local/lib/python3.7/dist-packages (from sqlalchemy->obspy) (4.13.0)\n",
            "Requirement already satisfied: zipp>=0.5 in /usr/local/lib/python3.7/dist-packages (from importlib-metadata->sqlalchemy->obspy) (3.9.0)\n"
          ]
        }
      ],
      "source": [
        "pip install obspy"
      ]
    },
    {
      "cell_type": "code",
      "source": [
        "#!/usr/bin/env python\n",
        "import glob\n",
        "from obspy.core import read\n",
        "\n",
        "for file in glob.glob('*.z'):\n",
        "    st = read(file)\n",
        "    tr = st[0]\n",
        "    msg = \"%s %s %f %f\" % (tr.stats.station, str(tr.stats.starttime),\n",
        "                           tr.data.mean(), tr.data.std())\n",
        "    print(msg)"
      ],
      "metadata": {
        "id": "QhvRhRbjO_hq"
      },
      "execution_count": 2,
      "outputs": []
    },
    {
      "cell_type": "code",
      "source": [
        "#Initialization\n",
        "from obspy.core import UTCDateTime\n",
        "UTCDateTime(\"2012-09-07T12:15:00\")\n",
        "UTCDateTime(2012, 9, 7, 12, 15, 0)\n",
        "UTCDateTime(1347020100.0)"
      ],
      "metadata": {
        "id": "J4Vb2j15PfbJ",
        "outputId": "1e796877-fc63-47cc-d3f5-2b950342f4a9",
        "colab": {
          "base_uri": "https://localhost:8080/"
        }
      },
      "execution_count": 13,
      "outputs": [
        {
          "output_type": "execute_result",
          "data": {
            "text/plain": [
              "2012-09-07T12:15:00.000000Z"
            ]
          },
          "metadata": {},
          "execution_count": 13
        }
      ]
    },
    {
      "cell_type": "code",
      "source": [
        "#Attribute access\n",
        "time = UTCDateTime(\"2012-09-07T12:15:00\")\n",
        "print(time)\n",
        "\n",
        "time.year\n",
        "print(time.year)\n",
        "\n",
        "time.julday\n",
        "print(time.julday)\n",
        "\n",
        "time.timestamp\n",
        "print(time.timestamp)\n",
        "\n",
        "time.weekday\n",
        "print(time.weekday)"
      ],
      "metadata": {
        "id": "lqsV7jrGPvM7",
        "outputId": "47e9d3d1-b059-4611-d69b-26ece9d00eb1",
        "colab": {
          "base_uri": "https://localhost:8080/"
        }
      },
      "execution_count": 16,
      "outputs": [
        {
          "output_type": "stream",
          "name": "stdout",
          "text": [
            "2012-09-07T12:15:00.000000Z\n",
            "2012\n",
            "251\n",
            "1347020100.0\n",
            "4\n"
          ]
        }
      ]
    },
    {
      "cell_type": "code",
      "source": [
        "#handing time differences\n",
        "time = UTCDateTime(\"2012-09-07T12:15:00\")\n",
        "print(time + 3600)\n",
        "\n",
        "time2 = UTCDateTime(2012, 1, 1)\n",
        "print(time - time2)"
      ],
      "metadata": {
        "id": "pMq22n-PQYlZ",
        "outputId": "eb305cea-96dc-4d4e-aeba-f957ac80bca4",
        "colab": {
          "base_uri": "https://localhost:8080/"
        }
      },
      "execution_count": 15,
      "outputs": [
        {
          "output_type": "stream",
          "name": "stdout",
          "text": [
            "2012-09-07T13:15:00.000000Z\n",
            "21644100.0\n"
          ]
        }
      ]
    },
    {
      "cell_type": "code",
      "source": [
        "#reading seismograph\n",
        "from obspy import read\n",
        "st = read('http://examples.obspy.org/RJOB_061005_072159.ehz.new')\n",
        "print(st)\n",
        "len(st)\n",
        "tr = st[0]  # assign first and only trace to new variable\n",
        "print(tr)"
      ],
      "metadata": {
        "id": "OCNOh1QYeyzs",
        "outputId": "26ab73be-31bd-4d98-a35c-bc7016144348",
        "colab": {
          "base_uri": "https://localhost:8080/"
        }
      },
      "execution_count": 17,
      "outputs": [
        {
          "output_type": "stream",
          "name": "stdout",
          "text": [
            "1 Trace(s) in Stream:\n",
            ".RJOB..Z | 2005-10-06T07:21:59.850000Z - 2005-10-06T07:24:59.845000Z | 200.0 Hz, 36000 samples\n",
            ".RJOB..Z | 2005-10-06T07:21:59.850000Z - 2005-10-06T07:24:59.845000Z | 200.0 Hz, 36000 samples\n"
          ]
        }
      ]
    },
    {
      "cell_type": "code",
      "source": [
        "#accessing metadata\n",
        "print(tr.stats) \n",
        "tr.stats.station\n",
        "tr.stats.gse2.datatype"
      ],
      "metadata": {
        "id": "8Un1RR05e-U6",
        "outputId": "99e0c051-14c6-41d6-ecbc-9dceae2f15e7",
        "colab": {
          "base_uri": "https://localhost:8080/",
          "height": 244
        }
      },
      "execution_count": 18,
      "outputs": [
        {
          "output_type": "stream",
          "name": "stdout",
          "text": [
            "         network: \n",
            "         station: RJOB\n",
            "        location: \n",
            "         channel: Z\n",
            "       starttime: 2005-10-06T07:21:59.850000Z\n",
            "         endtime: 2005-10-06T07:24:59.845000Z\n",
            "   sampling_rate: 200.0\n",
            "           delta: 0.005\n",
            "            npts: 36000\n",
            "           calib: 0.0949\n",
            "         _format: GSE2\n",
            "            gse2: AttribDict({'auxid': 'RJOB', 'datatype': 'CM6', 'calper': 1.0, 'instype': '', 'hang': -1.0, 'vang': -1.0, 'lat': -999.0, 'lon': -999.0, 'coordsys': '', 'elev': -0.999, 'edepth': -0.999})\n"
          ]
        },
        {
          "output_type": "execute_result",
          "data": {
            "text/plain": [
              "'CM6'"
            ],
            "application/vnd.google.colaboratory.intrinsic+json": {
              "type": "string"
            }
          },
          "metadata": {},
          "execution_count": 18
        }
      ]
    },
    {
      "cell_type": "code",
      "source": [
        "#accessing waveform\n",
        "tr.data\n",
        "tr.data[0:3]\n",
        "len(tr)"
      ],
      "metadata": {
        "id": "wjJ3bw-ffG-R",
        "outputId": "78a9ba77-7f9e-4cfe-a59e-b40f87b03d7e",
        "colab": {
          "base_uri": "https://localhost:8080/"
        }
      },
      "execution_count": 19,
      "outputs": [
        {
          "output_type": "execute_result",
          "data": {
            "text/plain": [
              "36000"
            ]
          },
          "metadata": {},
          "execution_count": 19
        }
      ]
    },
    {
      "cell_type": "code",
      "source": [
        "#preview\n",
        "st.plot()"
      ],
      "metadata": {
        "id": "-EQRBaQHfObd",
        "outputId": "727a0aa6-db0c-4a7f-bbf8-66a6820180d7",
        "colab": {
          "base_uri": "https://localhost:8080/",
          "height": 546
        }
      },
      "execution_count": 20,
      "outputs": [
        {
          "output_type": "display_data",
          "data": {
            "text/plain": [
              "<Figure size 800x250 with 1 Axes>"
            ],
            "image/png": "[encoded data removed]"
          },
          "metadata": {
            "needs_background": "light"
          }
        },
        {
          "output_type": "stream",
          "name": "stderr",
          "text": [
            "/usr/local/lib/python3.7/dist-packages/IPython/core/pylabtools.py:128: UserWarning: AutoDateLocator was unable to pick an appropriate interval for this date range. It may be necessary to add an interval value to the AutoDateLocator's intervald dictionary. Defaulting to 30.\n",
            "  fig.canvas.print_figure(bytes_io, **kw)\n"
          ]
        },
        {
          "output_type": "execute_result",
          "data": {
            "text/plain": [
              "<Figure size 800x250 with 1 Axes>"
            ],
            "image/png": "[encoded data removed]"
          },
          "metadata": {},
          "execution_count": 20
        }
      ]
    }
  ]
}